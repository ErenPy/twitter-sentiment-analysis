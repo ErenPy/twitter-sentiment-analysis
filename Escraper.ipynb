{
 "cells": [
  {
   "cell_type": "code",
   "execution_count": null,
   "metadata": {},
   "outputs": [],
   "source": [
    "import csv\n",
    "import time\n",
    "import requests as req\n",
    "from bs4 import BeautifulSoup\n",
    "from selenium import webdriver\n",
    "from selenium.webdriver.common.by import By"
   ]
  },
  {
   "cell_type": "code",
   "execution_count": null,
   "metadata": {},
   "outputs": [],
   "source": [
    "def TweetParser(phrase) :\n",
    "    list1 = []\n",
    "    for elem in phrase:\n",
    "        elem = str(elem)\n",
    "        parsedElem = elem.split('>')\n",
    "        result = []\n",
    "        for element in parsedElem :\n",
    "            if element:\n",
    "                if element[0] != \"<\":\n",
    "                    result.append(element)\n",
    "        cont = []\n",
    "        for phrase in result:\n",
    "            if phrase :\n",
    "                flag = False\n",
    "                tweet = ''\n",
    "                for letter in phrase:\n",
    "                    if letter == '<':\n",
    "                        flag = True\n",
    "                    if letter == '>':\n",
    "                        flag = False\n",
    "                    if flag != True:\n",
    "                        tweet += letter\n",
    "            cont.append(tweet)\n",
    "        while cont[-1].isnumeric():\n",
    "            cont.pop(-1)\n",
    "        \n",
    "        if cont[-1] != \"Promoted\":\n",
    "            tweet = \"\"\n",
    "            cont.pop(2)\n",
    "            if len(cont) > 3:\n",
    "                for i in cont[3:]:\n",
    "                    tweet += i\n",
    "                cont[3] = tweet\n",
    "            list1.append(cont[0:4])\n",
    "    return list1"
   ]
  },
  {
   "cell_type": "code",
   "execution_count": null,
   "metadata": {},
   "outputs": [],
   "source": [
    "def Organizer(tweets):\n",
    "    with open(f'tweets_2.csv', 'w', newline='') as csvfile:\n",
    "        spamwriter = csv.writer(csvfile, delimiter = ',')\n",
    "        spamwriter.writerows(TweetParser(tweets))"
   ]
  },
  {
   "cell_type": "code",
   "execution_count": null,
   "metadata": {},
   "outputs": [],
   "source": [
    "def scroll_down(self):\n",
    "    \"\"\"A method for scrolling the page.\"\"\"\n",
    "    scroll_pause_time = 2 # You can set your own pause time. My laptop is a bit slow so I use 1 sec\n",
    "    screen_height = browser.execute_script(\"return window.screen.height;\")   # get the screen height of the web\n",
    "    scroll_height = browser.execute_script(\"return document.body.scrollHeight;\")  \n",
    "    i = 2\n",
    "\n",
    "    while True:\n",
    "    # scroll one screen height each time\n",
    "        browser.execute_script(\"window.scrollTo(0, {screen_height}*{i});\".format(screen_height=screen_height, i=i))  \n",
    "        i += 1\n",
    "        if (screen_height) * i > (scroll_height - 1000) :\n",
    "            scroll_pause_time = 5\n",
    "        else :\n",
    "            scroll_pause_time = 1\n",
    "        time.sleep(scroll_pause_time)\n",
    "        element = browser.find_element_by_xpath(\"//*\")\n",
    "        html = browser.execute_script(\"return arguments[0].outerHTML;\", element)\n",
    "        soup = BeautifulSoup(html)\n",
    "        tweets = soup.findAll('div',attrs={'data-testid':'tweet'})\n",
    "        Organizer(tweets)\n",
    "        # update scroll height each time after scrolled, as the scroll height can change after we scrolled the page\n",
    "        scroll_height = browser.execute_script(\"return document.body.scrollHeight;\")  \n",
    "        # Break the loop when the height we need to scroll to is larger than the total scroll height\n",
    "        if (screen_height) * i > scroll_height:\n",
    "            break\n",
    "        # Get scroll height.\n",
    "        last_height = self.execute_script(\"return document.body.scrollHeight\")"
   ]
  },
  {
   "cell_type": "code",
   "execution_count": null,
   "metadata": {},
   "outputs": [],
   "source": [
    "accounts_list = []\n",
    "with open('Desktop/names.txt') as csv_file:\n",
    "    csv_reader = csv.reader(csv_file, delimiter=',')\n",
    "    line_count = 0\n",
    "    for row in csv_reader:\n",
    "        for elements in row: \n",
    "            accounts_list.append(elements)"
   ]
  },
  {
   "cell_type": "code",
   "execution_count": null,
   "metadata": {},
   "outputs": [],
   "source": [
    "browser = webdriver.Safari()\n",
    "browser.maximize_window()"
   ]
  },
  {
   "cell_type": "code",
   "execution_count": null,
   "metadata": {},
   "outputs": [],
   "source": [
    "arr = 0\n",
    "for element in accounts_list:\n",
    "    wordToSearch = element\n",
    "    URL = f'https://mobile.twitter.com/{wordToSearch}?p=s'\n",
    "    browser.get(URL)\n",
    "    time.sleep(2)\n",
    "    scroll_down(browser)"
   ]
  },
  {
   "cell_type": "code",
   "execution_count": null,
   "metadata": {},
   "outputs": [],
   "source": []
  }
 ],
 "metadata": {
  "kernelspec": {
   "display_name": "Python 3",
   "language": "python",
   "name": "python3"
  },
  "language_info": {
   "codemirror_mode": {
    "name": "ipython",
    "version": 3
   },
   "file_extension": ".py",
   "mimetype": "text/x-python",
   "name": "python",
   "nbconvert_exporter": "python",
   "pygments_lexer": "ipython3",
   "version": "3.6.8"
  }
 },
 "nbformat": 4,
 "nbformat_minor": 4
}
